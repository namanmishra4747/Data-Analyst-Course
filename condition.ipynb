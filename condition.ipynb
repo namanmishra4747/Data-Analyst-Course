{
 "cells": [
  {
   "cell_type": "code",
   "execution_count": 12,
   "metadata": {},
   "outputs": [
    {
     "name": "stdout",
     "output_type": "stream",
     "text": [
      "value is less than 100\n",
      "value is smaller than 50\n"
     ]
    }
   ],
   "source": [
    "val = 5\n",
    "if val < 100:\n",
    "    print(\"value is less than 100\")\n",
    "    if val < 50:\n",
    "        print (\"value is smaller than 50\")        "
   ]
  },
  {
   "cell_type": "code",
   "execution_count": 9,
   "metadata": {},
   "outputs": [
    {
     "name": "stdout",
     "output_type": "stream",
     "text": [
      "You can't vote!\n"
     ]
    }
   ],
   "source": [
    "age = 5\n",
    "if age >= 18:\n",
    "    print (\"You can vote\")\n",
    "else:\n",
    "    print(\"You can't vote!\")\n"
   ]
  },
  {
   "cell_type": "code",
   "execution_count": 11,
   "metadata": {},
   "outputs": [
    {
     "name": "stdout",
     "output_type": "stream",
     "text": [
      "Welcome\n"
     ]
    }
   ],
   "source": [
    "username = input(\"Enter your username\")\n",
    "password = input (\"Enter your password\")\n",
    "if username == 'admin' and password == 'root':\n",
    "    print(\"Welcome\")\n",
    "else:\n",
    "    print(\"invalid credentials\")"
   ]
  },
  {
   "cell_type": "code",
   "execution_count": 14,
   "metadata": {},
   "outputs": [
    {
     "name": "stdout",
     "output_type": "stream",
     "text": [
      "welcome\n"
     ]
    }
   ],
   "source": [
    "# nested statements\n",
    "username = input(\"Enter your username\")\n",
    "password = input (\"Enter your password\")\n",
    "if username == 'admin':\n",
    "    if password == 'root' :\n",
    "        print(\"welcome\")\n",
    "    else :\n",
    "        print(\"invalid password\")\n",
    "else:\n",
    "    print(\"not allowed\")"
   ]
  },
  {
   "cell_type": "code",
   "execution_count": 23,
   "metadata": {},
   "outputs": [
    {
     "name": "stdout",
     "output_type": "stream",
     "text": [
      "Welcome\n"
     ]
    }
   ],
   "source": [
    "# negative statements first\n",
    "username = input(\"Enter your username\")\n",
    "password = input (\"Enter your password\")\n",
    "e = False\n",
    "if username != 'admin':\n",
    "    print(\"no permission\")\n",
    "    e = True\n",
    "if password != 'root':\n",
    "    print (\" invalid password\")\n",
    "    e = True\n",
    "if not e:\n",
    "        print (\"Welcome\")"
   ]
  },
  {
   "cell_type": "code",
   "execution_count": 24,
   "metadata": {},
   "outputs": [
    {
     "name": "stdout",
     "output_type": "stream",
     "text": [
      "Welcome\n"
     ]
    }
   ],
   "source": [
    "#  elif negative statements first\n",
    "username = input(\"Enter your username\")\n",
    "password = input (\"Enter your password\")\n",
    "\n",
    "if username != 'admin':\n",
    "    print(\"no permission\")\n",
    "elif password != 'root':\n",
    "    print (\" invalid password\")\n",
    "else:\n",
    "        print (\"Welcome\")"
   ]
  },
  {
   "cell_type": "code",
   "execution_count": null,
   "metadata": {},
   "outputs": [],
   "source": []
  }
 ],
 "metadata": {
  "kernelspec": {
   "display_name": "base",
   "language": "python",
   "name": "python3"
  },
  "language_info": {
   "codemirror_mode": {
    "name": "ipython",
    "version": 3
   },
   "file_extension": ".py",
   "mimetype": "text/x-python",
   "name": "python",
   "nbconvert_exporter": "python",
   "pygments_lexer": "ipython3",
   "version": "3.9.12 (main, Apr  4 2022, 05:22:27) [MSC v.1916 64 bit (AMD64)]"
  },
  "orig_nbformat": 4,
  "vscode": {
   "interpreter": {
    "hash": "52d90d3cc821dd0beedd6e719dbdecc722c226b9d90ed1b663c34e1877f1142e"
   }
  }
 },
 "nbformat": 4,
 "nbformat_minor": 2
}
