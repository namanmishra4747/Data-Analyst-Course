{
 "cells": [
  {
   "cell_type": "code",
   "execution_count": 1,
   "metadata": {},
   "outputs": [],
   "source": [
    "from random import randint"
   ]
  },
  {
   "cell_type": "code",
   "execution_count": 2,
   "metadata": {},
   "outputs": [
    {
     "name": "stdout",
     "output_type": "stream",
     "text": [
      "[6, 4, 93, 11, 56, 99, 69, 59, 64, 66, 14, 29, 70, 46, 44, 8, 53, 45, 42, 16, 25, 98, 75, 52, 35]\n"
     ]
    }
   ],
   "source": [
    "x=[]\n",
    "for i in range(25):\n",
    "    x.append(randint(1,100))\n",
    "print(x)"
   ]
  },
  {
   "cell_type": "code",
   "execution_count": 6,
   "metadata": {},
   "outputs": [
    {
     "name": "stdout",
     "output_type": "stream",
     "text": [
      "[6, 4, 93, 11, 56, 99, 69, 59, 64, 14, 29, 70, 46, 44, 8, 53, 45, 42, 16, 25, 98, 75, 52, 35]\n"
     ]
    }
   ],
   "source": [
    "val = [66,11,99,6,4]\n",
    "if val in x:\n",
    "    x.remove(val)\n",
    "print(x)"
   ]
  },
  {
   "cell_type": "code",
   "execution_count": 7,
   "metadata": {},
   "outputs": [
    {
     "data": {
      "text/plain": [
       "6"
      ]
     },
     "execution_count": 7,
     "metadata": {},
     "output_type": "execute_result"
    }
   ],
   "source": [
    "x.index(69)"
   ]
  },
  {
   "cell_type": "code",
   "execution_count": 8,
   "metadata": {},
   "outputs": [
    {
     "data": {
      "text/plain": [
       "70"
      ]
     },
     "execution_count": 8,
     "metadata": {},
     "output_type": "execute_result"
    }
   ],
   "source": [
    "x.pop(11)"
   ]
  },
  {
   "cell_type": "code",
   "execution_count": 9,
   "metadata": {},
   "outputs": [
    {
     "data": {
      "text/plain": [
       "35"
      ]
     },
     "execution_count": 9,
     "metadata": {},
     "output_type": "execute_result"
    }
   ],
   "source": [
    "x.pop()"
   ]
  },
  {
   "cell_type": "code",
   "execution_count": 10,
   "metadata": {},
   "outputs": [
    {
     "name": "stdout",
     "output_type": "stream",
     "text": [
      "[4, 6, 8, 11, 14, 16, 25, 29, 42, 44, 45, 46, 52, 53, 56, 59, 64, 69, 75, 93, 98, 99]\n"
     ]
    }
   ],
   "source": [
    "x.sort() #by default it will sort he list in ascending order\n",
    "print(x)"
   ]
  },
  {
   "cell_type": "code",
   "execution_count": 12,
   "metadata": {},
   "outputs": [
    {
     "name": "stdout",
     "output_type": "stream",
     "text": [
      "[99, 98, 93, 75, 69, 64, 59, 56, 53, 52, 46, 45, 44, 42, 29, 25, 16, 14, 11, 8, 6, 4]\n"
     ]
    }
   ],
   "source": [
    "x.sort(reverse=True) #for descending order we have to pass reverse=true \n",
    "print (x)"
   ]
  },
  {
   "cell_type": "code",
   "execution_count": 14,
   "metadata": {},
   "outputs": [
    {
     "data": {
      "text/plain": [
       "1"
      ]
     },
     "execution_count": 14,
     "metadata": {},
     "output_type": "execute_result"
    }
   ],
   "source": [
    "x.count(75)"
   ]
  },
  {
   "cell_type": "code",
   "execution_count": 15,
   "metadata": {},
   "outputs": [
    {
     "name": "stdout",
     "output_type": "stream",
     "text": [
      "[1, 2, 4, 5, 15]\n",
      "[1, 2, 4, 5, 15]\n",
      "[1, 2, 3, 4, 5, 10]\n",
      "True\n",
      "False\n",
      "False\n"
     ]
    }
   ],
   "source": [
    "x = [1,2,3,4,5]\n",
    "y=x #refrence\n",
    "z=x.copy() #dublicate\n",
    "y.append(15)\n",
    "x.remove(3)\n",
    "z.append(10)\n",
    "print(x)\n",
    "print(y)\n",
    "print(z)\n",
    "print(x is y) #is give true or false\n",
    "print(x is z)\n",
    "print(y is z)"
   ]
  },
  {
   "cell_type": "code",
   "execution_count": 16,
   "metadata": {},
   "outputs": [
    {
     "name": "stdout",
     "output_type": "stream",
     "text": [
      "[]\n"
     ]
    }
   ],
   "source": [
    "x.clear()\n",
    "print (x)"
   ]
  },
  {
   "attachments": {},
   "cell_type": "markdown",
   "metadata": {},
   "source": [
    "## Questions\n",
    "\n",
    "- wap to count all number greater than 50 in a list of 100 elements"
   ]
  },
  {
   "cell_type": "code",
   "execution_count": 30,
   "metadata": {},
   "outputs": [
    {
     "name": "stdout",
     "output_type": "stream",
     "text": [
      "[44, 61, 67, 47, 9, 100, 7, 54, 45, 40, 5, 54, 81, 59, 89, 28, 71, 13, 99, 54, 72, 56, 28, 76, 24, 16, 57, 75, 6, 79, 35, 44, 90, 55, 84, 23, 82, 19, 84, 16, 74, 62, 59, 66, 58, 62, 12, 3, 51, 89, 10, 23, 79, 47, 47, 78, 55, 26, 59, 46, 77, 61, 17, 60, 12, 99, 1, 82, 23, 59, 1, 99, 33, 82, 4, 49, 4, 82, 97, 57, 17, 32, 38, 16, 80, 78, 91, 70, 53, 24, 83, 81, 69, 75, 64, 14, 41, 33, 47, 17]\n"
     ]
    }
   ],
   "source": [
    "x=[]\n",
    "for _ in range(100):\n",
    "    x.append(randint(1,100))\n",
    "print(x)"
   ]
  },
  {
   "cell_type": "code",
   "execution_count": 31,
   "metadata": {},
   "outputs": [
    {
     "name": "stdout",
     "output_type": "stream",
     "text": [
      "we have 55 numbers greater than 50\n"
     ]
    }
   ],
   "source": [
    "p=0\n",
    "for i  in x:\n",
    "    if i>=50:\n",
    "        p+=1\n",
    "print(f'we have {p} numbers greater than 50')"
   ]
  },
  {
   "cell_type": "code",
   "execution_count": 32,
   "metadata": {},
   "outputs": [
    {
     "name": "stdout",
     "output_type": "stream",
     "text": [
      "we have 26 numbers less than epual to 25\n"
     ]
    }
   ],
   "source": [
    "# print numbers which are less than or = to 25\n",
    "\n",
    "p=0\n",
    "for i in x:\n",
    "    if i<=25:\n",
    "        p+=1\n",
    "print(f'we have {p} numbers less than epual to 25')"
   ]
  },
  {
   "cell_type": "code",
   "execution_count": 34,
   "metadata": {},
   "outputs": [
    {
     "name": "stdout",
     "output_type": "stream",
     "text": [
      "336\n"
     ]
    }
   ],
   "source": [
    "#add all the numbers that are less than or = to 25\n",
    "add=0\n",
    "for i in x:\n",
    "    if i <=25:\n",
    "        add=add+i\n",
    "print(add)"
   ]
  },
  {
   "attachments": {},
   "cell_type": "markdown",
   "metadata": {},
   "source": [
    "# list compression"
   ]
  },
  {
   "cell_type": "code",
   "execution_count": 44,
   "metadata": {},
   "outputs": [
    {
     "name": "stdout",
     "output_type": "stream",
     "text": [
      "[1, 2, 3, 4, 5]\n",
      "[1, 8, 27, 64, 125]\n"
     ]
    }
   ],
   "source": [
    "xcubes= [i**3 for i in x] \n",
    "print(x)\n",
    "print(xcubes)"
   ]
  },
  {
   "cell_type": "code",
   "execution_count": 46,
   "metadata": {},
   "outputs": [
    {
     "name": "stdout",
     "output_type": "stream",
     "text": [
      "15\n"
     ]
    }
   ],
   "source": [
    "sub25= [i for i in x if i <=25]\n",
    "print(sum(sub25))"
   ]
  },
  {
   "cell_type": "code",
   "execution_count": 37,
   "metadata": {},
   "outputs": [
    {
     "name": "stdout",
     "output_type": "stream",
     "text": [
      "[11, 12, 13, 14, 15]\n"
     ]
    }
   ],
   "source": [
    "x = [1,2,3,4,5]\n",
    "x2=[]\n",
    "for i in x:\n",
    "    x2.append(i+10)\n",
    "print(x2)\n"
   ]
  },
  {
   "cell_type": "code",
   "execution_count": 39,
   "metadata": {},
   "outputs": [
    {
     "name": "stdout",
     "output_type": "stream",
     "text": [
      "[11, 25, 24, 28, 22, 37, 39]\n",
      "[11, 25, 37, 39]\n"
     ]
    }
   ],
   "source": [
    "y = [11,25,24,28,22,37,39]\n",
    "yodd=[]\n",
    "for i in y:\n",
    "    if i % 2 != 0: #odd number\n",
    "        yodd.append(i)\n",
    "print(y)\n",
    "print(yodd)"
   ]
  },
  {
   "cell_type": "code",
   "execution_count": 43,
   "metadata": {},
   "outputs": [
    {
     "name": "stdout",
     "output_type": "stream",
     "text": [
      "[11, 25, 37, 39]\n"
     ]
    }
   ],
   "source": [
    "y = [11,25,24,28,22,37,39]\n",
    "yodd=[]\n",
    "for i in y:\n",
    "    if i % 2 != 0: #odd number\n",
    "        yodd.append(i)\n",
    "print(yodd)"
   ]
  },
  {
   "cell_type": "code",
   "execution_count": 49,
   "metadata": {},
   "outputs": [
    {
     "name": "stdout",
     "output_type": "stream",
     "text": [
      "4\n",
      "16\n"
     ]
    }
   ],
   "source": [
    "# create a list of squares of only even numers from an exiting list\n",
    "z=[]\n",
    "for i in x:\n",
    "    if i % 2 == 0:\n",
    "        z=i*i\n",
    "        print (z)\n"
   ]
  },
  {
   "cell_type": "code",
   "execution_count": 53,
   "metadata": {},
   "outputs": [
    {
     "name": "stdout",
     "output_type": "stream",
     "text": [
      "[4, 16]\n"
     ]
    }
   ],
   "source": [
    "z= [i*i for i in x if i % 2 ==0]\n",
    "print (z)"
   ]
  },
  {
   "cell_type": "code",
   "execution_count": null,
   "metadata": {},
   "outputs": [],
   "source": []
  }
 ],
 "metadata": {
  "kernelspec": {
   "display_name": "base",
   "language": "python",
   "name": "python3"
  },
  "language_info": {
   "codemirror_mode": {
    "name": "ipython",
    "version": 3
   },
   "file_extension": ".py",
   "mimetype": "text/x-python",
   "name": "python",
   "nbconvert_exporter": "python",
   "pygments_lexer": "ipython3",
   "version": "3.9.12 (main, Apr  4 2022, 05:22:27) [MSC v.1916 64 bit (AMD64)]"
  },
  "orig_nbformat": 4,
  "vscode": {
   "interpreter": {
    "hash": "52d90d3cc821dd0beedd6e719dbdecc722c226b9d90ed1b663c34e1877f1142e"
   }
  }
 },
 "nbformat": 4,
 "nbformat_minor": 2
}
