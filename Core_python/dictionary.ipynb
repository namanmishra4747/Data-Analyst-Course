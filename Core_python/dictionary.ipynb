{
 "cells": [
  {
   "attachments": {},
   "cell_type": "markdown",
   "metadata": {},
   "source": [
    "## data structure\n",
    "- list (✅)\n",
    "- tuple\n",
    "- set\n",
    "- dictionary (✅)"
   ]
  },
  {
   "attachments": {},
   "cell_type": "markdown",
   "metadata": {},
   "source": [
    "## Dictionary\n",
    "- ordered, unindexed, mutable\n",
    "- key-value pairs {key: value}\n",
    "- keys are unique, values can be duplicated\n",
    "- keys are immutable, values can be mutable\n",
    "- represented by { }\n",
    "- dict() constructor that takes a list of tuples as an argument"
   ]
  },
  {
   "cell_type": "code",
   "execution_count": 1,
   "metadata": {},
   "outputs": [
    {
     "name": "stdout",
     "output_type": "stream",
     "text": [
      "['X91290', 'Mobile Phone', 12858, 1000, '12-12-23', 0, 1, 0]\n"
     ]
    }
   ],
   "source": [
    "x = ['X91290', 'Mobile Phone', 12858, 1000, '12-12-23', 0, 1, 0]\n",
    "print(x)"
   ]
  },
  {
   "cell_type": "code",
   "execution_count": 2,
   "metadata": {},
   "outputs": [
    {
     "name": "stdout",
     "output_type": "stream",
     "text": [
      "{'id': 'X91290', 'type': 'Mobile Phone', 'price': 12858, 'quantity': 1000, 'date': '12-12-23', 'is_available': 0, 'is_delivered': 1, 'is_new': 0}\n"
     ]
    }
   ],
   "source": [
    "x = {\n",
    "    'id': 'X91290',\n",
    "    'type': 'Mobile Phone', \n",
    "    'price': 12858, \n",
    "    'quantity': 1000, \n",
    "    'date': '12-12-23', \n",
    "    'is_available': 0, \n",
    "    'is_delivered': 1, \n",
    "    'is_new': 0\n",
    "}\n",
    "print(x)"
   ]
  },
  {
   "attachments": {},
   "cell_type": "markdown",
   "metadata": {},
   "source": [
    "## retreive value by key\n",
    "\n",
    "- dict[key]\n",
    "- dict.get(key)"
   ]
  },
  {
   "cell_type": "code",
   "execution_count": 4,
   "metadata": {},
   "outputs": [
    {
     "name": "stdout",
     "output_type": "stream",
     "text": [
      "12-12-23 12858\n"
     ]
    }
   ],
   "source": [
    "print(x['date'], x.get('price'))"
   ]
  },
  {
   "cell_type": "code",
   "execution_count": 5,
   "metadata": {},
   "outputs": [],
   "source": [
    "x.get('address') # return None if key not found|"
   ]
  },
  {
   "cell_type": "code",
   "execution_count": 9,
   "metadata": {},
   "outputs": [
    {
     "data": {
      "text/plain": [
       "1000"
      ]
     },
     "execution_count": 9,
     "metadata": {},
     "output_type": "execute_result"
    }
   ],
   "source": [
    "x.get('quantity', 0) # return 0 if key not found"
   ]
  },
  {
   "cell_type": "code",
   "execution_count": 10,
   "metadata": {},
   "outputs": [
    {
     "data": {
      "text/plain": [
       "'X91290'"
      ]
     },
     "execution_count": 10,
     "metadata": {},
     "output_type": "execute_result"
    }
   ],
   "source": [
    "x.get('id', 'not found')"
   ]
  },
  {
   "cell_type": "code",
   "execution_count": 11,
   "metadata": {},
   "outputs": [
    {
     "data": {
      "text/plain": [
       "dict_keys(['id', 'type', 'price', 'quantity', 'date', 'is_available', 'is_delivered', 'is_new'])"
      ]
     },
     "execution_count": 11,
     "metadata": {},
     "output_type": "execute_result"
    }
   ],
   "source": [
    "x.keys()"
   ]
  },
  {
   "cell_type": "code",
   "execution_count": 12,
   "metadata": {},
   "outputs": [
    {
     "data": {
      "text/plain": [
       "dict_values(['X91290', 'Mobile Phone', 12858, 1000, '12-12-23', 0, 1, 0])"
      ]
     },
     "execution_count": 12,
     "metadata": {},
     "output_type": "execute_result"
    }
   ],
   "source": [
    "x.values()"
   ]
  },
  {
   "cell_type": "code",
   "execution_count": 13,
   "metadata": {},
   "outputs": [
    {
     "name": "stdout",
     "output_type": "stream",
     "text": [
      "{1: 'a', 2: 'b', 3: 'c', 4: 'd', 5: 'e'}\n"
     ]
    }
   ],
   "source": [
    "x = [1,2,3,4,5]\n",
    "names = ['a', 'b', 'c', 'd', 'e']\n",
    "info = {} # empty dict\n",
    "for i,j in zip(x,names):\n",
    "    info[i] = j\n",
    "    # dict[key] = value this is how to add key value pair to dict\n",
    "print(info)"
   ]
  },
  {
   "cell_type": "code",
   "execution_count": 14,
   "metadata": {},
   "outputs": [
    {
     "name": "stdout",
     "output_type": "stream",
     "text": [
      "{'Alex': 'Anderson', 'John': 'Edwards', 'Mary': 'Carter', 'Steve': 'Fox'}\n"
     ]
    }
   ],
   "source": [
    "fname = ['Alex','John','Mary','Steve','John','Steve']\n",
    "lname = ['Anderson','Brown','Carter','Davis','Edwards','Fox']\n",
    "\n",
    "names = {} # dict\n",
    "for f,l in zip(fname,lname):\n",
    "    names[f] = l\n",
    "\n",
    "print(names)"
   ]
  },
  {
   "cell_type": "code",
   "execution_count": 15,
   "metadata": {},
   "outputs": [],
   "source": [
    "from pprint import pp"
   ]
  },
  {
   "cell_type": "code",
   "execution_count": 16,
   "metadata": {},
   "outputs": [
    {
     "name": "stdout",
     "output_type": "stream",
     "text": [
      "{'Alex': 'Anderson', 'John': 'Edwards', 'Mary': 'Carter', 'Steve': 'Fox'}\n"
     ]
    }
   ],
   "source": [
    "pp(names)"
   ]
  },
  {
   "cell_type": "code",
   "execution_count": 17,
   "metadata": {},
   "outputs": [
    {
     "name": "stdout",
     "output_type": "stream",
     "text": [
      "{'naman': 55,\n",
      " 'namanh': 58,\n",
      " 'pko': 487,\n",
      " 'ookp': 2210,\n",
      " 'pqpqp': 663}\n"
     ]
    }
   ],
   "source": [
    "budget = {}\n",
    "for i in range(5):\n",
    "    name = input('Enter name: ')\n",
    "    amount = int(input('Enter amount: '))\n",
    "    budget[name] = amount\n",
    "pp(budget, width=1)"
   ]
  },
  {
   "cell_type": "code",
   "execution_count": 18,
   "metadata": {},
   "outputs": [
    {
     "data": {
      "text/plain": [
       "dict_items([('naman', 55), ('namanh', 58), ('pko', 487), ('ookp', 2210), ('pqpqp', 663)])"
      ]
     },
     "execution_count": 18,
     "metadata": {},
     "output_type": "execute_result"
    }
   ],
   "source": [
    "budget.items()"
   ]
  },
  {
   "cell_type": "code",
   "execution_count": 19,
   "metadata": {},
   "outputs": [
    {
     "name": "stdout",
     "output_type": "stream",
     "text": [
      "naman 55\n",
      "namanh 58\n",
      "pko 487\n",
      "ookp 2210\n",
      "pqpqp 663\n"
     ]
    }
   ],
   "source": [
    "for k, v in budget.items():\n",
    "    print(k, v)"
   ]
  },
  {
   "cell_type": "code",
   "execution_count": 20,
   "metadata": {},
   "outputs": [
    {
     "name": "stdout",
     "output_type": "stream",
     "text": [
      "1 a\n",
      "2 b\n",
      "3 c\n",
      "4 d\n",
      "5 e\n"
     ]
    }
   ],
   "source": [
    "for k, v in info.items():\n",
    "    print(k, v)"
   ]
  },
  {
   "cell_type": "code",
   "execution_count": 21,
   "metadata": {},
   "outputs": [
    {
     "name": "stdout",
     "output_type": "stream",
     "text": [
      "total_amount=3473\n"
     ]
    }
   ],
   "source": [
    "total_amount = 0\n",
    "for k, v in budget.items():\n",
    "    total_amount += v\n",
    "print(f'{total_amount=}')"
   ]
  },
  {
   "cell_type": "code",
   "execution_count": 22,
   "metadata": {},
   "outputs": [],
   "source": [
    "# {}.fromkeys(['a','b','c'], 0)"
   ]
  },
  {
   "attachments": {},
   "cell_type": "markdown",
   "metadata": {},
   "source": [
    "## wap to create a dict CONTACTS with name and numbers\n",
    "\n",
    "- give option to add a contact\n",
    "- give option to view contact\n",
    "- give option to delete a contact"
   ]
  },
  {
   "attachments": {},
   "cell_type": "markdown",
   "metadata": {},
   "source": [
    "WAP to combine two dictionary adding values for common keys.\n",
    "d1 = {'a': 100, 'b': 200, 'c':300}\n",
    "\n",
    "d2 = {'a': 300, 'b': 200, 'd':400}\n",
    "\n",
    "output\n",
    "\n",
    "ans = {'a': 400, 'b': 400, 'd': 400, 'c': 300})"
   ]
  },
  {
   "cell_type": "code",
   "execution_count": 26,
   "metadata": {},
   "outputs": [
    {
     "ename": "ValueError",
     "evalue": "too many values to unpack (expected 2)",
     "output_type": "error",
     "traceback": [
      "\u001b[1;31m---------------------------------------------------------------------------\u001b[0m",
      "\u001b[1;31mValueError\u001b[0m                                Traceback (most recent call last)",
      "\u001b[1;32mc:\\Users\\Asus\\Documents\\Data Analyst\\dictionary.ipynb Cell 24\u001b[0m in \u001b[0;36m<cell line: 4>\u001b[1;34m()\u001b[0m\n\u001b[0;32m      <a href='vscode-notebook-cell:/c%3A/Users/Asus/Documents/Data%20Analyst/dictionary.ipynb#X61sZmlsZQ%3D%3D?line=1'>2</a>\u001b[0m d1 \u001b[39m=\u001b[39m {\u001b[39m'\u001b[39m\u001b[39ma\u001b[39m\u001b[39m'\u001b[39m: \u001b[39m'\u001b[39m\u001b[39m100\u001b[39m\u001b[39m'\u001b[39m, \u001b[39m'\u001b[39m\u001b[39mb\u001b[39m\u001b[39m'\u001b[39m: \u001b[39m'\u001b[39m\u001b[39m200\u001b[39m\u001b[39m'\u001b[39m, \u001b[39m'\u001b[39m\u001b[39mc\u001b[39m\u001b[39m'\u001b[39m:\u001b[39m'\u001b[39m\u001b[39m300\u001b[39m\u001b[39m'\u001b[39m}\n\u001b[0;32m      <a href='vscode-notebook-cell:/c%3A/Users/Asus/Documents/Data%20Analyst/dictionary.ipynb#X61sZmlsZQ%3D%3D?line=2'>3</a>\u001b[0m d2 \u001b[39m=\u001b[39m {\u001b[39m'\u001b[39m\u001b[39ma\u001b[39m\u001b[39m'\u001b[39m: \u001b[39m'\u001b[39m\u001b[39m300\u001b[39m\u001b[39m'\u001b[39m, \u001b[39m'\u001b[39m\u001b[39mb\u001b[39m\u001b[39m'\u001b[39m: \u001b[39m'\u001b[39m\u001b[39m200\u001b[39m\u001b[39m'\u001b[39m, \u001b[39m'\u001b[39m\u001b[39md\u001b[39m\u001b[39m'\u001b[39m:\u001b[39m'\u001b[39m\u001b[39m400\u001b[39m\u001b[39m'\u001b[39m}\n\u001b[1;32m----> <a href='vscode-notebook-cell:/c%3A/Users/Asus/Documents/Data%20Analyst/dictionary.ipynb#X61sZmlsZQ%3D%3D?line=3'>4</a>\u001b[0m \u001b[39mfor\u001b[39;00m k,v \u001b[39min\u001b[39;00m d1,d2:\n\u001b[0;32m      <a href='vscode-notebook-cell:/c%3A/Users/Asus/Documents/Data%20Analyst/dictionary.ipynb#X61sZmlsZQ%3D%3D?line=4'>5</a>\u001b[0m     \u001b[39mif\u001b[39;00m d1\u001b[39m.\u001b[39mkeys \u001b[39m==\u001b[39m d2\u001b[39m.\u001b[39mkeys:\n\u001b[0;32m      <a href='vscode-notebook-cell:/c%3A/Users/Asus/Documents/Data%20Analyst/dictionary.ipynb#X61sZmlsZQ%3D%3D?line=5'>6</a>\u001b[0m         fin \u001b[39m=\u001b[39m d1\u001b[39m.\u001b[39mvalues \u001b[39m+\u001b[39m d2\u001b[39m.\u001b[39mvalues\n",
      "\u001b[1;31mValueError\u001b[0m: too many values to unpack (expected 2)"
     ]
    }
   ],
   "source": [
    "fin = {}\n",
    "d1 = {'a': '100', 'b': '200', 'c':'300'}\n",
    "d2 = {'a': '300', 'b': '200', 'd':'400'}\n",
    "for k,v in d1,d2:\n",
    "    if d1.keys == d2.keys:\n",
    "        fin = d1.values + d2.values\n",
    "pp(fin, width=1)"
   ]
  },
  {
   "attachments": {},
   "cell_type": "markdown",
   "metadata": {},
   "source": [
    "WAP to create a dictionary from a string. Track the count of the letters from the string.\n",
    "example: input_string = 'apple'\n",
    "\n",
    "result = {'a': 1, 'p': 2, 'l': 1, 'e': 1}"
   ]
  },
  {
   "cell_type": "code",
   "execution_count": null,
   "metadata": {},
   "outputs": [],
   "source": []
  },
  {
   "attachments": {},
   "cell_type": "markdown",
   "metadata": {},
   "source": [
    "WAP drop empty Items from a given Dictionary.\n",
    "Original Dictionary: {'c1': 'Red', 'c2': 'Green', 'c3': None, 'c4': None}\n",
    "\n",
    "Result after dropping empty values: {'c1': 'Red', 'c2': 'Green'}"
   ]
  },
  {
   "cell_type": "code",
   "execution_count": 28,
   "metadata": {},
   "outputs": [
    {
     "name": "stdout",
     "output_type": "stream",
     "text": [
      "{'c1': 'Red', 'c2': 'Green'}\n"
     ]
    }
   ],
   "source": [
    "x = {'c1': 'Red', 'c2': 'Green', 'c3': None, 'c4': None }\n",
    "clean_x = {}\n",
    "for k,v in x.items():\n",
    "    if v is not None:\n",
    "        clean_x[k] = v\n",
    "print(clean_x)"
   ]
  },
  {
   "cell_type": "code",
   "execution_count": null,
   "metadata": {},
   "outputs": [],
   "source": []
  }
 ],
 "metadata": {
  "kernelspec": {
   "display_name": "base",
   "language": "python",
   "name": "python3"
  },
  "language_info": {
   "codemirror_mode": {
    "name": "ipython",
    "version": 3
   },
   "file_extension": ".py",
   "mimetype": "text/x-python",
   "name": "python",
   "nbconvert_exporter": "python",
   "pygments_lexer": "ipython3",
   "version": "3.9.12 (main, Apr  4 2022, 05:22:27) [MSC v.1916 64 bit (AMD64)]"
  },
  "orig_nbformat": 4,
  "vscode": {
   "interpreter": {
    "hash": "52d90d3cc821dd0beedd6e719dbdecc722c226b9d90ed1b663c34e1877f1142e"
   }
  }
 },
 "nbformat": 4,
 "nbformat_minor": 2
}
