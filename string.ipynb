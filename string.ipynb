{
 "cells": [
  {
   "attachments": {},
   "cell_type": "markdown",
   "metadata": {},
   "source": [
    "# basics"
   ]
  },
  {
   "cell_type": "code",
   "execution_count": 6,
   "metadata": {},
   "outputs": [
    {
     "name": "stdout",
     "output_type": "stream",
     "text": [
      "this is \"some kind\" of message\n",
      "This is one line\n",
      "This is another line\n",
      "THis is the last line\n",
      "One is a number\n",
      "Two is another number\n",
      "Three is the last number\n"
     ]
    }
   ],
   "source": [
    "a = 'Hello' # string\n",
    "a = \"Hello\" # string\n",
    "word = 'this is \"some kind\" of message'\n",
    "print(word)\n",
    "# multiline string\n",
    "message = '''This is one line\n",
    "This is another line\n",
    "THis is the last line'''\n",
    "\n",
    "message2 = \"\"\"One is a number\n",
    "Two is another number\n",
    "Three is the last number\"\"\"\n",
    "print(message)\n",
    "print(message2)"
   ]
  },
  {
   "attachments": {},
   "cell_type": "markdown",
   "metadata": {},
   "source": [
    "# String Types\n"
   ]
  },
  {
   "cell_type": "code",
   "execution_count": 7,
   "metadata": {},
   "outputs": [
    {
     "name": "stdout",
     "output_type": "stream",
     "text": [
      "this is John\n",
      "this is \\na \\nraw \\nstring\n",
      "C:\\Users\\ZAID\\Downloads\\Friends Forever.pptx\n",
      "b'Hello'\n"
     ]
    }
   ],
   "source": [
    "name = 'John'\n",
    "message = f'this is {name}'\n",
    "raw_string = r'this is \\na \\nraw \\nstring'\n",
    "address = r'C:\\Users\\ZAID\\Downloads\\Friends Forever.pptx'\n",
    "binary = b'Hello' # byte string\n",
    "print(message)\n",
    "print(raw_string)\n",
    "print(address)\n",
    "print(binary)"
   ]
  },
  {
   "cell_type": "code",
   "execution_count": 8,
   "metadata": {},
   "outputs": [
    {
     "data": {
      "text/plain": [
       "'_____________________________________________'"
      ]
     },
     "execution_count": 8,
     "metadata": {},
     "output_type": "execute_result"
    }
   ],
   "source": [
    "\"___\" * 15"
   ]
  },
  {
   "attachments": {},
   "cell_type": "markdown",
   "metadata": {},
   "source": [
    "string properties\n",
    "\n",
    "- strings are indexed\n",
    "- strings are immutable\n",
    "- strings are iterable"
   ]
  },
  {
   "attachments": {},
   "cell_type": "markdown",
   "metadata": {},
   "source": [
    "# Utility function\n",
    "- count\n",
    "- strip\n",
    "- split\n",
    "- join"
   ]
  },
  {
   "cell_type": "code",
   "execution_count": 9,
   "metadata": {},
   "outputs": [
    {
     "name": "stdout",
     "output_type": "stream",
     "text": [
      "10\n",
      "Z\n",
      "a\n",
      "l\n",
      "i\n",
      "Z a i d\n"
     ]
    }
   ],
   "source": [
    "name = \"Zaid Kamil\"\n",
    "print(len(name))\n",
    "print(name[0]) # first element\n",
    "print(name[1]) # second element\n",
    "print(name[-1]) # last element\n",
    "print(name[-2]) # second last element\n",
    "print(name[0], name[1], name[2], name[3]) # first four elements\n",
    "# print(name[10]) # index out of range\n",
    "# print(name=[10]) # stupidity"
   ]
  },
  {
   "cell_type": "code",
   "execution_count": 10,
   "metadata": {},
   "outputs": [
    {
     "name": "stdout",
     "output_type": "stream",
     "text": [
      "S\n",
      "Shake\n",
      "pear\n",
      "William\n"
     ]
    }
   ],
   "source": [
    "name = \"William Shakespeare\"\n",
    "print(name[8])\n",
    "print(name[8:13]) # slicing\n",
    "# pear\n",
    "print(name[-5:-1])\n",
    "print(name[:7]) # from start to 7th index"
   ]
  },
  {
   "cell_type": "code",
   "execution_count": 11,
   "metadata": {},
   "outputs": [
    {
     "name": "stdout",
     "output_type": "stream",
     "text": [
      "Journey\n",
      "Before\n",
      "Destination\n"
     ]
    }
   ],
   "source": [
    "sentence = \"Journey Before Destination\"\n",
    "print(sentence[:7])\n",
    "print(sentence[8:14])\n",
    "print(sentence[15:])"
   ]
  },
  {
   "cell_type": "code",
   "execution_count": 13,
   "metadata": {},
   "outputs": [
    {
     "name": "stdout",
     "output_type": "stream",
     "text": [
      "Ecyts\n",
      "ulpu\n",
      "sutpylcuE\n"
     ]
    }
   ],
   "source": [
    "word = \"Euclyptus\"\n",
    "print(word[::2]) # step size (even indexed elements)\n",
    "print(word[1::2]) # step size (odd indexed elements)\n",
    "print(word[::-1]) # reverse the string"
   ]
  },
  {
   "cell_type": "code",
   "execution_count": 14,
   "metadata": {},
   "outputs": [
    {
     "name": "stdout",
     "output_type": "stream",
     "text": [
      "1000000.00\n"
     ]
    }
   ],
   "source": [
    "amount = \"$1000000.00\"\n",
    "amount = amount[1:]\n",
    "print(amount)"
   ]
  },
  {
   "cell_type": "code",
   "execution_count": 15,
   "metadata": {},
   "outputs": [
    {
     "name": "stdout",
     "output_type": "stream",
     "text": [
      "Vikram\n",
      "Prasad\n"
     ]
    }
   ],
   "source": [
    "name = \"Dr. Vikram Prasad\"\n",
    "fname = name[4:10]\n",
    "lname = name[-6:]\n",
    "print(fname)\n",
    "print(lname)"
   ]
  },
  {
   "cell_type": "code",
   "execution_count": 16,
   "metadata": {},
   "outputs": [
    {
     "name": "stdout",
     "output_type": "stream",
     "text": [
      "python\n"
     ]
    }
   ],
   "source": [
    "word = '__python__' # clean this word\n",
    "print(word[2:-2]) # skip first 2 and last 2 elements"
   ]
  },
  {
   "attachments": {},
   "cell_type": "markdown",
   "metadata": {},
   "source": [
    "python\n",
    "functions in string\n",
    "\n",
    "- formatting\n",
    "- find and replace\n",
    "- validation\n",
    "- utilities"
   ]
  },
  {
   "cell_type": "code",
   "execution_count": 17,
   "metadata": {},
   "outputs": [
    {
     "data": {
      "text/plain": [
       "'TOMATO IS A FRUIT'"
      ]
     },
     "execution_count": 17,
     "metadata": {},
     "output_type": "execute_result"
    }
   ],
   "source": [
    "word = \"Tomato is a fruit\"\n",
    "word.upper()"
   ]
  },
  {
   "cell_type": "code",
   "execution_count": 25,
   "metadata": {},
   "outputs": [
    {
     "name": "stdout",
     "output_type": "stream",
     "text": [
      "OLA AMIGOS\n"
     ]
    }
   ],
   "source": [
    "word = word.upper()\n",
    "print(word)"
   ]
  },
  {
   "cell_type": "code",
   "execution_count": 26,
   "metadata": {},
   "outputs": [
    {
     "name": "stdout",
     "output_type": "stream",
     "text": [
      "OLA AMIGOS\n",
      "ola amigos\n",
      "Ola Amigos\n",
      "Ola amigos\n",
      "ola amigos\n",
      "ola amigos\n",
      "hEllO\n"
     ]
    }
   ],
   "source": [
    "print(word)\n",
    "print(word.lower())\n",
    "print(word.title())\n",
    "print(word.capitalize())\n",
    "print(word.swapcase())\n",
    "print(word.casefold())\n",
    "print(\"HeLLo\".swapcase())"
   ]
  },
  {
   "cell_type": "code",
   "execution_count": 27,
   "metadata": {},
   "outputs": [
    {
     "data": {
      "text/plain": [
       "-1"
      ]
     },
     "execution_count": 27,
     "metadata": {},
     "output_type": "execute_result"
    }
   ],
   "source": [
    "word.find('IS')"
   ]
  },
  {
   "cell_type": "code",
   "execution_count": 28,
   "metadata": {},
   "outputs": [
    {
     "name": "stdout",
     "output_type": "stream",
     "text": [
      "very important meeting\n"
     ]
    }
   ],
   "source": [
    "word = \"We are having a very important meeting\"\n",
    "v_idx = word.find('very')\n",
    "print( word[v_idx:] )"
   ]
  },
  {
   "cell_type": "code",
   "execution_count": 29,
   "metadata": {},
   "outputs": [
    {
     "data": {
      "text/plain": [
       "27"
      ]
     },
     "execution_count": 29,
     "metadata": {},
     "output_type": "execute_result"
    }
   ],
   "source": [
    "word.find('ant')"
   ]
  },
  {
   "cell_type": "code",
   "execution_count": 30,
   "metadata": {},
   "outputs": [
    {
     "data": {
      "text/plain": [
       "'We ore hoving o very importont meeting'"
      ]
     },
     "execution_count": 30,
     "metadata": {},
     "output_type": "execute_result"
    }
   ],
   "source": [
    "word.replace(\"a\", \"o\")"
   ]
  },
  {
   "cell_type": "code",
   "execution_count": 31,
   "metadata": {},
   "outputs": [
    {
     "name": "stdout",
     "output_type": "stream",
     "text": [
      "We are having a very boring meeting\n"
     ]
    }
   ],
   "source": [
    "word = word.replace('important', 'boring')\n",
    "print(word)"
   ]
  },
  {
   "cell_type": "code",
   "execution_count": 32,
   "metadata": {},
   "outputs": [
    {
     "name": "stdout",
     "output_type": "stream",
     "text": [
      "c c a b abc\n"
     ]
    }
   ],
   "source": [
    "data = 'a b a b a b abc'\n",
    "data = data.replace('a b', 'c', 2) # 2 represents the number of replacements\n",
    "print(data)"
   ]
  },
  {
   "cell_type": "code",
   "execution_count": 33,
   "metadata": {},
   "outputs": [
    {
     "name": "stdout",
     "output_type": "stream",
     "text": [
      "10000\n"
     ]
    }
   ],
   "source": [
    "x = '10000'\n",
    "if x.isnumeric():\n",
    "    x = int(x)\n",
    "    print(x)\n",
    "else:\n",
    "    print('Invalid input')"
   ]
  },
  {
   "cell_type": "code",
   "execution_count": 34,
   "metadata": {},
   "outputs": [
    {
     "name": "stdout",
     "output_type": "stream",
     "text": [
      "Valid\n"
     ]
    }
   ],
   "source": [
    "fnm = \"Sameer\"\n",
    "if fnm.isalpha():\n",
    "    print('Valid')\n",
    "else:\n",
    "    print('Invalid')"
   ]
  },
  {
   "cell_type": "code",
   "execution_count": 35,
   "metadata": {},
   "outputs": [
    {
     "name": "stdout",
     "output_type": "stream",
     "text": [
      "who are you?\n"
     ]
    }
   ],
   "source": [
    "name = \"Er. Vikram Prasad\"\n",
    "if name.startswith('Dr'):\n",
    "    print('you are a doctor')\n",
    "elif name.startswith('Mr'):\n",
    "    print('you are a gentleman')\n",
    "else:\n",
    "    print('who are you?')"
   ]
  },
  {
   "cell_type": "code",
   "execution_count": 1,
   "metadata": {},
   "outputs": [
    {
     "name": "stdout",
     "output_type": "stream",
     "text": [
      "3\n"
     ]
    }
   ],
   "source": [
    "msg = \"La La Land\"\n",
    "print(msg.count('La'))\n"
   ]
  },
  {
   "cell_type": "code",
   "execution_count": 2,
   "metadata": {},
   "outputs": [
    {
     "name": "stdout",
     "output_type": "stream",
     "text": [
      "p occured 9 times\n"
     ]
    }
   ],
   "source": [
    "msg2 = 'peter piper picked a peck of pickled peppers'\n",
    "cp = msg2.count ('p')\n",
    "print (f'p occured {cp} times')"
   ]
  },
  {
   "cell_type": "code",
   "execution_count": 5,
   "metadata": {},
   "outputs": [
    {
     "name": "stdout",
     "output_type": "stream",
     "text": [
      "a 1\n",
      "b 0\n",
      "c 3\n",
      "d 2\n",
      "e 8\n",
      "f 1\n",
      "g 0\n",
      "h 0\n",
      "i 3\n",
      "j 0\n",
      "k 3\n",
      "l 1\n",
      "m 0\n",
      "n 0\n",
      "o 1\n",
      "p 9\n",
      "q 0\n",
      "r 3\n",
      "s 1\n",
      "t 1\n",
      "u 0\n",
      "v 0\n",
      "w 0\n",
      "x 0\n",
      "y 0\n",
      "z 0\n"
     ]
    }
   ],
   "source": [
    "from string import ascii_lowercase\n",
    "for letter in ascii_lowercase:\n",
    "    print(letter, msg2.count(letter))"
   ]
  },
  {
   "cell_type": "code",
   "execution_count": 4,
   "metadata": {},
   "outputs": [
    {
     "name": "stdout",
     "output_type": "stream",
     "text": [
      "h\n",
      "e\n",
      "l\n",
      "l\n",
      "o\n",
      " \n",
      "w\n",
      "o\n",
      "r\n",
      "l\n",
      "d\n"
     ]
    }
   ],
   "source": [
    "for w in \"hello world\":\n",
    "    print (w)"
   ]
  },
  {
   "cell_type": "code",
   "execution_count": 12,
   "metadata": {},
   "outputs": [
    {
     "name": "stdout",
     "output_type": "stream",
     "text": [
      "a occured 1 times\n",
      "c occured 3 times\n",
      "d occured 2 times\n",
      "e occured 8 times\n",
      "f occured 1 times\n",
      "i occured 3 times\n",
      "k occured 3 times\n",
      "l occured 1 times\n",
      "o occured 1 times\n",
      "p occured 9 times\n",
      "r occured 3 times\n",
      "s occured 1 times\n",
      "t occured 1 times\n"
     ]
    }
   ],
   "source": [
    "for i in ascii_lowercase:\n",
    "    c = msg2.count(i)\n",
    "    if c>0:\n",
    "        print (f'{i} occured {c} times') # 'f' is used to print string and comment at the same time"
   ]
  },
  {
   "cell_type": "code",
   "execution_count": 18,
   "metadata": {},
   "outputs": [
    {
     "name": "stdout",
     "output_type": "stream",
     "text": [
      " ola amigos = & length = 12\n"
     ]
    }
   ],
   "source": [
    "word = \" ola amigos \"\n",
    "print (f'{word}= & length = {len(word)}')"
   ]
  },
  {
   "cell_type": "code",
   "execution_count": 20,
   "metadata": {},
   "outputs": [
    {
     "name": "stdout",
     "output_type": "stream",
     "text": [
      "word ='ola amigos' & lenght =10\n"
     ]
    }
   ],
   "source": [
    "word = word.strip()\n",
    "print(f'{word =} & lenght ={len(word)}')"
   ]
  },
  {
   "cell_type": "code",
   "execution_count": 21,
   "metadata": {},
   "outputs": [],
   "source": [
    "a = ''' Raju  '''"
   ]
  },
  {
   "cell_type": "code",
   "execution_count": 22,
   "metadata": {},
   "outputs": [
    {
     "name": "stdout",
     "output_type": "stream",
     "text": [
      " Raju   7\n",
      "Raju 4\n"
     ]
    }
   ],
   "source": [
    "print (a, len(a))\n",
    "a = a.strip()\n",
    "print (a, len(a))"
   ]
  },
  {
   "cell_type": "code",
   "execution_count": 23,
   "metadata": {},
   "outputs": [
    {
     "name": "stdout",
     "output_type": "stream",
     "text": [
      "  nmaan   9\n",
      "nmaan 5\n",
      "nmaan   7\n",
      "  nmaan 7\n"
     ]
    }
   ],
   "source": [
    "name = input(\"enter name\")\n",
    "print (name, len(name))\n",
    "print (name.strip(),len(name.strip()))\n",
    "print(name.lstrip(),len(name.lstrip()))\n",
    "print(name.rstrip(),len(name.rstrip()))"
   ]
  },
  {
   "cell_type": "code",
   "execution_count": 24,
   "metadata": {},
   "outputs": [
    {
     "name": "stdout",
     "output_type": "stream",
     "text": [
      "alex\n",
      "john\n",
      "mary\n",
      "sam\n",
      "tom\n"
     ]
    }
   ],
   "source": [
    "dirty_data = ['alex', 'john', 'mary', 'sam', 'tom']\n",
    "for name in dirty_data:\n",
    "    print(name.strip())"
   ]
  },
  {
   "cell_type": "code",
   "execution_count": 41,
   "metadata": {},
   "outputs": [
    {
     "name": "stdout",
     "output_type": "stream",
     "text": [
      "9\n"
     ]
    }
   ],
   "source": [
    "msg = \"There is a place with a very long name\"\n",
    "words=msg.split()\n",
    "print(len(words))"
   ]
  },
  {
   "cell_type": "code",
   "execution_count": 37,
   "metadata": {},
   "outputs": [
    {
     "data": {
      "text/plain": [
       "['alpha', 'beta', 'gamma', 'delta', 'epsilon']"
      ]
     },
     "execution_count": 37,
     "metadata": {},
     "output_type": "execute_result"
    }
   ],
   "source": [
    "msg2 = \"alpha,beta,gamma,delta,epsilon\"\n",
    "msg2.split(\",\")"
   ]
  },
  {
   "cell_type": "code",
   "execution_count": 42,
   "metadata": {},
   "outputs": [
    {
     "data": {
      "text/plain": [
       "['This is sparta', 'This is Delhi', 'This is Goa']"
      ]
     },
     "execution_count": 42,
     "metadata": {},
     "output_type": "execute_result"
    }
   ],
   "source": [
    "msg3 = 'This is sparta. This is Delhi. This is Goa'\n",
    "msg3.split('. ')"
   ]
  },
  {
   "cell_type": "code",
   "execution_count": 44,
   "metadata": {},
   "outputs": [
    {
     "name": "stdout",
     "output_type": "stream",
     "text": [
      "['Hi', 'how', 'are', 'you', '?']\n"
     ]
    }
   ],
   "source": [
    "words = ['Hi','how','are', 'you', '?']\n",
    "print(words)\n"
   ]
  },
  {
   "cell_type": "code",
   "execution_count": 45,
   "metadata": {},
   "outputs": [
    {
     "name": "stdout",
     "output_type": "stream",
     "text": [
      "Hi how are you ?\n"
     ]
    }
   ],
   "source": [
    "msg = ' '.join(words)\n",
    "print (msg)"
   ]
  },
  {
   "cell_type": "code",
   "execution_count": 1,
   "metadata": {},
   "outputs": [
    {
     "name": "stdout",
     "output_type": "stream",
     "text": [
      "a occured 2 times\n",
      "e occured 0 times\n",
      "i occured 0 times\n",
      "o occured 0 times\n",
      "u occured 0 times\n"
     ]
    }
   ],
   "source": [
    "# wap to count all vowels\n",
    "\n",
    "data = input ('enter something')\n",
    "for vowel in 'aeiou' :\n",
    "    cnt = data.lower().count(vowel)\n",
    "    print (f'{vowel} occured {cnt} times')"
   ]
  },
  {
   "cell_type": "code",
   "execution_count": 2,
   "metadata": {},
   "outputs": [
    {
     "name": "stdout",
     "output_type": "stream",
     "text": [
      "word_count=1\n"
     ]
    }
   ],
   "source": [
    "# wap to count word \n",
    "\n",
    "data =input (\"enter something\")\n",
    "word_count = len(data.split())\n",
    "print(f'{word_count=}')"
   ]
  },
  {
   "cell_type": "code",
   "execution_count": 3,
   "metadata": {},
   "outputs": [
    {
     "name": "stdout",
     "output_type": "stream",
     "text": [
      "n occured 2 times\n"
     ]
    }
   ],
   "source": [
    "# wap to calculate maximum occuring charater\n",
    "\n",
    "data = input(\"enter something\")\n",
    "mx = \"\" # black string\n",
    "cnt = 0 \n",
    "for char in data:\n",
    "    count = data.count(char)\n",
    "    if count > cnt:\n",
    "        mx = char\n",
    "        cnt = count\n",
    "print (f'{mx} occured {cnt} times')        "
   ]
  },
  {
   "cell_type": "code",
   "execution_count": 6,
   "metadata": {},
   "outputs": [
    {
     "name": "stdout",
     "output_type": "stream",
     "text": [
      "kjbjs dkj d kj sd\n",
      "kjbjsdkjdkjsd\n"
     ]
    }
   ],
   "source": [
    "# wap to remove all spaces\n",
    "data =input(\"enter something:\")\n",
    "print(data)\n",
    "data = data.replace(\" \",'')\n",
    "print(data)\n",
    "\n"
   ]
  },
  {
   "cell_type": "code",
   "execution_count": 4,
   "metadata": {},
   "outputs": [
    {
     "name": "stdout",
     "output_type": "stream",
     "text": [
      "n hbfkn]];;],'dkhvskjns\n",
      "n hbfkndkhvskjns\n"
     ]
    }
   ],
   "source": [
    "from string import punctuation\n",
    "data = input(\"enter something\")\n",
    "print(data)\n",
    "for char in punctuation:\n",
    "    data = data.replace(char, '')\n",
    "print (data)"
   ]
  },
  {
   "cell_type": "code",
   "execution_count": null,
   "metadata": {},
   "outputs": [],
   "source": []
  }
 ],
 "metadata": {
  "kernelspec": {
   "display_name": "base",
   "language": "python",
   "name": "python3"
  },
  "language_info": {
   "codemirror_mode": {
    "name": "ipython",
    "version": 3
   },
   "file_extension": ".py",
   "mimetype": "text/x-python",
   "name": "python",
   "nbconvert_exporter": "python",
   "pygments_lexer": "ipython3",
   "version": "3.9.12 (main, Apr  4 2022, 05:22:27) [MSC v.1916 64 bit (AMD64)]"
  },
  "orig_nbformat": 4,
  "vscode": {
   "interpreter": {
    "hash": "52d90d3cc821dd0beedd6e719dbdecc722c226b9d90ed1b663c34e1877f1142e"
   }
  }
 },
 "nbformat": 4,
 "nbformat_minor": 2
}
