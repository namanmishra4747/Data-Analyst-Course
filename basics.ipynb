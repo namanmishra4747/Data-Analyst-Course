{
 "cells": [
  {
   "attachments": {},
   "cell_type": "markdown",
   "metadata": {},
   "source": [
    "# Operators\n",
    "1. Arthmetic Operators\n",
    "2. Assigment Operators\n",
    "3. Comparison Operators\n",
    "4. Logical Operators\n",
    "5. Identity Operators\n",
    "6. Membership Operators\n",
    "7. Bitwise Operators"
   ]
  },
  {
   "cell_type": "code",
   "execution_count": 4,
   "metadata": {},
   "outputs": [
    {
     "data": {
      "text/plain": [
       "300"
      ]
     },
     "execution_count": 4,
     "metadata": {},
     "output_type": "execute_result"
    }
   ],
   "source": [
    "100+200"
   ]
  },
  {
   "cell_type": "code",
   "execution_count": 5,
   "metadata": {},
   "outputs": [
    {
     "name": "stdout",
     "output_type": "stream",
     "text": [
      "17840\n",
      "6900\n",
      "3.3333333333333335\n",
      "3\n",
      "1\n",
      "8\n"
     ]
    }
   ],
   "source": [
    "print(20231 - 2391) #substraction\n",
    "print(230 * 30) #multiply\n",
    "print(10 / 3) #divition (float)\n",
    "print(10 // 3) #division (int)\n",
    "print(10 % 3) #modulo (remainder)\n",
    "print(2 ** 3) #exponentiation"
   ]
  },
  {
   "cell_type": "code",
   "execution_count": 6,
   "metadata": {},
   "outputs": [
    {
     "name": "stdout",
     "output_type": "stream",
     "text": [
      "10 15 20 10 25\n"
     ]
    }
   ],
   "source": [
    "x = 10  #'=' Assigments Operator\n",
    "y = 15\n",
    "z = 20\n",
    "a = 10\n",
    "b = x + y\n",
    "print (x, y, z, a, b)"
   ]
  },
  {
   "cell_type": "code",
   "execution_count": 7,
   "metadata": {},
   "outputs": [],
   "source": [
    "x += 10 # x=x+10\n",
    "x -= 10 # x=x-10\n",
    "x *= 2 # x=x*2"
   ]
  },
  {
   "cell_type": "code",
   "execution_count": 8,
   "metadata": {},
   "outputs": [
    {
     "name": "stdout",
     "output_type": "stream",
     "text": [
      "True\n",
      "True\n",
      "True\n",
      "False\n",
      "False\n",
      "True\n"
     ]
    }
   ],
   "source": [
    "print (x > y)\n",
    "print (x >= y)\n",
    "print (x >= y)\n",
    "print (x < y)\n",
    "print (x == y)\n",
    "print (x != y)\n"
   ]
  },
  {
   "cell_type": "code",
   "execution_count": 9,
   "metadata": {},
   "outputs": [
    {
     "name": "stdout",
     "output_type": "stream",
     "text": [
      "True\n",
      "False\n",
      "False\n",
      "False\n"
     ]
    }
   ],
   "source": [
    "# and , or , not\n",
    "# condition 1 condition 2 and condition 3\n",
    "x = 10\n",
    "y = 3\n",
    "print(x >5 and y < 10)\n",
    "print(x >5 and y > 10)\n",
    "print(x <5 and y > 10)\n",
    "print(x <5 and y < 10)"
   ]
  },
  {
   "cell_type": "code",
   "execution_count": 10,
   "metadata": {},
   "outputs": [
    {
     "data": {
      "text/plain": [
       "True"
      ]
     },
     "execution_count": 10,
     "metadata": {},
     "output_type": "execute_result"
    }
   ],
   "source": [
    "a =''\n",
    "bool(a) # empty string and 0 is false, bool is function which gives false if there is nothing in '' and vise versa\n",
    "\n",
    "a ='Hello' # here string is not empty \n",
    "bool(a)"
   ]
  },
  {
   "attachments": {},
   "cell_type": "markdown",
   "metadata": {},
   "source": [
    "Identity operator"
   ]
  },
  {
   "cell_type": "code",
   "execution_count": 14,
   "metadata": {},
   "outputs": [
    {
     "name": "stdout",
     "output_type": "stream",
     "text": [
      "False\n"
     ]
    }
   ],
   "source": [
    "x = [1,2,3]\n",
    "y = x.copy() # is is a copy\n",
    "z = x # this is a refrence\n",
    "x == y # == is a comparison\n",
    "x == z # == is a comparison\n",
    "print (x is y) # 'is' is a identity operator"
   ]
  },
  {
   "attachments": {},
   "cell_type": "markdown",
   "metadata": {},
   "source": [
    "Memebership Operator"
   ]
  },
  {
   "cell_type": "code",
   "execution_count": 15,
   "metadata": {},
   "outputs": [],
   "source": [
    "colors= ['red', 'green', 'blue']"
   ]
  },
  {
   "cell_type": "code",
   "execution_count": 16,
   "metadata": {},
   "outputs": [
    {
     "name": "stdout",
     "output_type": "stream",
     "text": [
      "False\n"
     ]
    }
   ],
   "source": [
    "print ('pink' in colors) #'in' is a membership operator"
   ]
  },
  {
   "cell_type": "code",
   "execution_count": 19,
   "metadata": {},
   "outputs": [
    {
     "name": "stdout",
     "output_type": "stream",
     "text": [
      "False\n",
      "True\n"
     ]
    }
   ],
   "source": [
    "numbers = [1,2,1,5,4,8,4,6,7,44,55,24,1]\n",
    "print (77 in numbers)\n",
    "print (1 in numbers)"
   ]
  },
  {
   "attachments": {},
   "cell_type": "markdown",
   "metadata": {},
   "source": [
    "Data Types\n",
    "\n",
    "integer # holds holds values \n",
    "\n",
    "float # holds holds values\n",
    "\n",
    "string # holds holds values\n",
    "\n",
    "bloolean (true or false) # holds holds values\n",
    "\n",
    "nonetype (none) # holds holds values\n",
    "\n",
    "list # holds multiple values\n",
    "\n",
    "tuple # holds multiple values\n",
    "\n",
    "set # holds multiple values\n",
    "\n",
    "dictionary # holds multiple values\n",
    "\n"
   ]
  },
  {
   "cell_type": "code",
   "execution_count": 20,
   "metadata": {},
   "outputs": [
    {
     "name": "stdout",
     "output_type": "stream",
     "text": [
      "<class 'int'>\n",
      "<class 'float'>\n",
      "<class 'str'>\n",
      "<class 'bool'>\n",
      "<class 'NoneType'>\n",
      "<class 'list'>\n",
      "<class 'tuple'>\n",
      "<class 'set'>\n",
      "<class 'dict'>\n"
     ]
    }
   ],
   "source": [
    "x = 10\n",
    "print (type(x)) #'type' is a function which gives the data type of the variable\n",
    "x = 10.00\n",
    "print (type(x))\n",
    "x = 'Names'\n",
    "print (type(x))\n",
    "x = True\n",
    "print (type(x))\n",
    "x = None\n",
    "print (type(x))\n",
    "x = [1,2,3]\n",
    "print (type(x))\n",
    "x = (1,2,3)\n",
    "print (type(x))\n",
    "x = {1,2,3}\n",
    "print (type(x))\n",
    "x = {'a':1, 'b':2, 'c':3}\n",
    "print (type(x))\n"
   ]
  },
  {
   "cell_type": "code",
   "execution_count": 1,
   "metadata": {},
   "outputs": [
    {
     "name": "stdout",
     "output_type": "stream",
     "text": [
      "30\n"
     ]
    }
   ],
   "source": []
  },
  {
   "cell_type": "code",
   "execution_count": null,
   "metadata": {},
   "outputs": [],
   "source": []
  }
 ],
 "metadata": {
  "kernelspec": {
   "display_name": "base",
   "language": "python",
   "name": "python3"
  },
  "language_info": {
   "codemirror_mode": {
    "name": "ipython",
    "version": 3
   },
   "file_extension": ".py",
   "mimetype": "text/x-python",
   "name": "python",
   "nbconvert_exporter": "python",
   "pygments_lexer": "ipython3",
   "version": "3.9.12 (main, Apr  4 2022, 05:22:27) [MSC v.1916 64 bit (AMD64)]"
  },
  "orig_nbformat": 4,
  "vscode": {
   "interpreter": {
    "hash": "52d90d3cc821dd0beedd6e719dbdecc722c226b9d90ed1b663c34e1877f1142e"
   }
  }
 },
 "nbformat": 4,
 "nbformat_minor": 2
}
