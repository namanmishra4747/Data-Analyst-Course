{
 "cells": [
  {
   "attachments": {},
   "cell_type": "markdown",
   "metadata": {},
   "source": [
    "# 5 variations of print() function"
   ]
  },
  {
   "cell_type": "code",
   "execution_count": 3,
   "metadata": {},
   "outputs": [],
   "source": [
    "name = \"Alexa\"\n",
    "price = 99.99\n",
    "qty = 10\n"
   ]
  },
  {
   "cell_type": "code",
   "execution_count": 4,
   "metadata": {},
   "outputs": [
    {
     "name": "stdout",
     "output_type": "stream",
     "text": [
      "Alexa 99.99 10 999.9\n"
     ]
    }
   ],
   "source": [
    "print(name,price,qty,price * qty)"
   ]
  },
  {
   "attachments": {},
   "cell_type": "markdown",
   "metadata": {},
   "source": [
    "'name' purchases 'qty' items for 'price' costing 'total'"
   ]
  },
  {
   "cell_type": "code",
   "execution_count": 9,
   "metadata": {},
   "outputs": [
    {
     "name": "stdout",
     "output_type": "stream",
     "text": [
      "Alexa purchases 10 items for 99.99 costing 999.9\n"
     ]
    }
   ],
   "source": [
    "#comma seperated value\n",
    "print( name, 'purchases' ,qty, 'items for',price,'costing', price * qty)"
   ]
  },
  {
   "cell_type": "code",
   "execution_count": 12,
   "metadata": {},
   "outputs": [
    {
     "name": "stdout",
     "output_type": "stream",
     "text": [
      "Alexa purchases10 items for 99.99 costing 999.9\n"
     ]
    }
   ],
   "source": [
    "# concatenation using + (plus)\n",
    "print (name + ' purchases' + str(qty) + ' items for ' + str(price) + ' costing ' + str(price * qty))"
   ]
  },
  {
   "cell_type": "code",
   "execution_count": 13,
   "metadata": {},
   "outputs": [
    {
     "name": "stdout",
     "output_type": "stream",
     "text": [
      "Alexa purchases 10 itmes for 99.990000 costing 999.900000\n"
     ]
    }
   ],
   "source": [
    "# Fortmat specifier using % 'C language print'\n",
    "print('%s purchases %d itmes for %f costing %f'% (name, qty, price, price * qty))"
   ]
  },
  {
   "cell_type": "code",
   "execution_count": 14,
   "metadata": {},
   "outputs": [
    {
     "name": "stdout",
     "output_type": "stream",
     "text": [
      " Alexa purchaes 10 items for 99.99 costing 999.9\n"
     ]
    }
   ],
   "source": [
    "#format method\n",
    "print ( ' {} purchaes {} items for {} costing {}'.format(name,qty,price,price*qty))"
   ]
  },
  {
   "cell_type": "code",
   "execution_count": 15,
   "metadata": {},
   "outputs": [
    {
     "name": "stdout",
     "output_type": "stream",
     "text": [
      "Alexa purchases 10 items for 99.99 costing 999.9\n"
     ]
    }
   ],
   "source": [
    "# f-string\n",
    "print(f'{name} purchases {qty} items for {price} costing {price * qty}')"
   ]
  },
  {
   "cell_type": "code",
   "execution_count": 18,
   "metadata": {},
   "outputs": [
    {
     "name": "stdout",
     "output_type": "stream",
     "text": [
      "Name => Alexa\n",
      "Items price => $99.99\n",
      "Quanlity => 10\n",
      "Total price => $999.90\n"
     ]
    }
   ],
   "source": [
    "print(f'Name => {name}')\n",
    "print(f'Items price => ${price}')\n",
    "print (f'Quanlity => {qty}')\n",
    "print (f'Total price => ${price * qty:.2f}') # :.2f conditions numbers after decimal place"
   ]
  },
  {
   "cell_type": "code",
   "execution_count": 20,
   "metadata": {},
   "outputs": [
    {
     "data": {
      "text/plain": [
       "4"
      ]
     },
     "execution_count": 20,
     "metadata": {},
     "output_type": "execute_result"
    }
   ],
   "source": [
    "sum([52,4,7,88,63,32,12]) # sum is a fuction in which we get the additon\n",
    "max([52,4,7,88,63,32,12]) # max is a fuction in which we get the Maximum\n",
    "min([52,4,7,88,63,32,12]) # min is a fuction in which we get the Minimim\n",
    "len([52,4,7,88,63,32,12]) # len is a fuction in which we get the total length\n",
    "len('Halo')   # len can be used to get the lenght of a name also"
   ]
  },
  {
   "cell_type": "code",
   "execution_count": 21,
   "metadata": {},
   "outputs": [
    {
     "data": {
      "text/plain": [
       "36.857142857142854"
      ]
     },
     "execution_count": 21,
     "metadata": {},
     "output_type": "execute_result"
    }
   ],
   "source": [
    "#example\n",
    "sum([52,4,7,88,63,32,12]) / len([52,4,7,88,63,32,12])"
   ]
  },
  {
   "attachments": {},
   "cell_type": "markdown",
   "metadata": {},
   "source": [
    "# Question no 1 -\n",
    "Wap to find area of a circle."
   ]
  },
  {
   "cell_type": "code",
   "execution_count": 1,
   "metadata": {},
   "outputs": [
    {
     "name": "stdout",
     "output_type": "stream",
     "text": [
      "31.400000000000002\n"
     ]
    }
   ],
   "source": [
    "Radius = input (\"Radius of the circle :\")\n",
    "Radius = float(Radius)\n",
    "Area = 2* 3.14 * Radius\n",
    "print (Area)"
   ]
  },
  {
   "attachments": {},
   "cell_type": "markdown",
   "metadata": {},
   "source": []
  }
 ],
 "metadata": {
  "kernelspec": {
   "display_name": "base",
   "language": "python",
   "name": "python3"
  },
  "language_info": {
   "codemirror_mode": {
    "name": "ipython",
    "version": 3
   },
   "file_extension": ".py",
   "mimetype": "text/x-python",
   "name": "python",
   "nbconvert_exporter": "python",
   "pygments_lexer": "ipython3",
   "version": "3.9.12 (main, Apr  4 2022, 05:22:27) [MSC v.1916 64 bit (AMD64)]"
  },
  "orig_nbformat": 4,
  "vscode": {
   "interpreter": {
    "hash": "52d90d3cc821dd0beedd6e719dbdecc722c226b9d90ed1b663c34e1877f1142e"
   }
  }
 },
 "nbformat": 4,
 "nbformat_minor": 2
}
